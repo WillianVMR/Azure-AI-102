{
 "cells": [
  {
   "cell_type": "code",
   "execution_count": 2,
   "metadata": {},
   "outputs": [],
   "source": [
    "import requests\n",
    "from docx import Document\n",
    "import uuid\n",
    "\n",
    "\n",
    "subscription_key = \"YOUR_SUBSCRIPTION_KEY\"\n",
    "endpoint = \"YOUR_ENDPOINT\"\n",
    "location = \"YOUR_LOCATION\"\n",
    "\n",
    "target_language = \"pt-br\"\n",
    "\n",
    "\n",
    "def translator_document(text, target_language):\n",
    "    path = \"/translate?api-version=3.0\"\n",
    "    constructed_url = endpoint + path\n",
    "    headers = {\n",
    "        \"Ocp-Apim-Subscription-Key\": subscription_key,\n",
    "        \"Ocp-Apim-Subscription-Region\": location,\n",
    "        \"Content-type\": \"application/json\",\n",
    "        \"X-ClientTraceId\": str(uuid.uuid4())\n",
    "    }\n",
    "\n",
    "    body = [{\n",
    "        \"text\": text\n",
    "    }]\n",
    "\n",
    "    params = {\n",
    "        \"api\": \"translate\",\n",
    "        \"from\": \"en\",\n",
    "        \"to\": [target_language]\n",
    "    }\n",
    "    request = requests.post(constructed_url, params=params, headers=headers, json=body)\n",
    "    response = request.json()\n",
    "    return request.json()[0]['translations'][0]['text']\n"
   ]
  },
  {
   "cell_type": "code",
   "execution_count": null,
   "metadata": {},
   "outputs": [],
   "source": [
    "text = \"Your text here\"\n",
    "translated_text = translator_document(text, target_language)\n",
    "print(translated_text)\n"
   ]
  },
  {
   "cell_type": "code",
   "execution_count": null,
   "metadata": {},
   "outputs": [],
   "source": [
    "def translate_document(document_path, target_language):\n",
    "    doc = Document(document_path)\n",
    "    full_text = []\n",
    "    for paragraph in doc.paragraphs:\n",
    "        translated_text = translator_document(paragraph.text, target_language)\n",
    "        full_text.append(translated_text)\n",
    "        \n",
    "    translated_doc = Document()    \n",
    "    for line in full_text:\n",
    "        translated_doc.add_paragraph(line)\n",
    "\n",
    "    path = document_path.split('.')[0] + '_translated.docx'\n",
    "    translated_doc.save(document_path)"
   ]
  },
  {
   "cell_type": "code",
   "execution_count": null,
   "metadata": {},
   "outputs": [],
   "source": [
    "input_path = 'input.docx'\n",
    "output_path = 'output.docx'\n",
    "translate_document(input_path, target_language)"
   ]
  },
  {
   "cell_type": "code",
   "execution_count": null,
   "metadata": {},
   "outputs": [],
   "source": [
    "import requests\n",
    "from bs4 import BeautifulSoup4\n",
    "\n",
    "def extract_text_from_html(html_path):\n",
    "    response = requests.get(html_path)\n",
    "    \n",
    "    if response.status_code == 200:\n",
    "        soup = BeautifulSoup4(response.text, 'html.parser')\n",
    "\n",
    "        for script_or_style in soup(['script', 'style']):\n",
    "            script_or_style.decompose()\n",
    "            \n",
    "        text = soup.get_text(separator=' ', strip=True)\n",
    "        #Clean text\n",
    "        lines = (line.strip() for line in text.splitlines())\n",
    "        chunks = (phrase.strip() for line in lines for phrase in line.split('  '))\n",
    "        clean_text = '\\n'.join(chunk for chunk in chunks if chunk)\n",
    "        return clean_text\n",
    "\n",
    "    else:\n",
    "        raise Exception(f\"Failed to retrieve the HTML file: {response.status_code}\")\n",
    "\n",
    "html_path = 'input.html'\n",
    "extracted_text = extract_text_from_html(html_path)"
   ]
  },
  {
   "cell_type": "code",
   "execution_count": null,
   "metadata": {},
   "outputs": [],
   "source": [
    "from langchain_openai.chat_models.azure import AzureChatOpenAI\n",
    "from langchain_openai.embeddings.azure import AzureOpenAIEmbeddings\n",
    "\n",
    "client = AzureChatOpenAI(\n",
    "    azure_endpoint=endpoint,\n",
    "    api_key=subscription_key,\n",
    "    azure_deployment=\"gpt-4o\",\n",
    "    api_version=\"2024-02-15-preview\",\n",
    "    max_retries=3,\n",
    "    temperature=0.0\n",
    ")\n",
    "\n",
    "embeddings = AzureOpenAIEmbeddings(\n",
    "    azure_endpoint=endpoint,\n",
    "    api_key=subscription_key,\n",
    "    azure_deployment=\"text-embedding-3-large\"\n",
    ")\n",
    "\n",
    "def translate_article(text, target_language):\n",
    "    messages =[\n",
    "        (\"system\", \"Você atua como tradutor de textos técnicos. Você recebe um texto e traduz para o português brasileiro.\"),\n",
    "        (\"user\", f\"Traduz o seguinte texto para o português brasileiro: {text}\")\n",
    "    ]\n",
    "\n",
    "    response = client.invoke(messages)\n",
    "    return response.content[0].text"
   ]
  },
  {
   "cell_type": "code",
   "execution_count": null,
   "metadata": {},
   "outputs": [],
   "source": [
    "url = \"URL_DO_ARTIGO_EM_INGLES\"\n",
    "extracted_text = extract_text_from_html(url)\n",
    "translated_text = translate_article(extracted_text, target_language)\n",
    "print(translated_text)"
   ]
  }
 ],
 "metadata": {
  "kernelspec": {
   "display_name": ".venv",
   "language": "python",
   "name": "python3"
  },
  "language_info": {
   "codemirror_mode": {
    "name": "ipython",
    "version": 3
   },
   "file_extension": ".py",
   "mimetype": "text/x-python",
   "name": "python",
   "nbconvert_exporter": "python",
   "pygments_lexer": "ipython3",
   "version": "3.10.4"
  }
 },
 "nbformat": 4,
 "nbformat_minor": 2
}
